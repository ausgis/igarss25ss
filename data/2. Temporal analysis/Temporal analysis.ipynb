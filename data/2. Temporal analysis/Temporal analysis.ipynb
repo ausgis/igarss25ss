{
 "cells": [
  {
   "cell_type": "code",
   "execution_count": null,
   "metadata": {},
   "outputs": [],
   "source": [
    "import geopandas as gpd\n",
    "import numpy as np\n",
    "from scipy.stats import linregress\n",
    "\n",
    "# Read the Shapefile\n",
    "gdf = gpd.read_file(\"/your_path_here/grid5_Sta.shp\")\n",
    "\n",
    "# Extract column names for the time series\n",
    "years = list(range(2000, 2025))  # 2000 to 2024\n",
    "columns = [f\"BA_{year}\" for year in years]\n",
    "\n",
    "# Ensure all columns exist in the dataset\n",
    "columns = [col for col in columns if col in gdf.columns]\n",
    "\n",
    "# Time axis\n",
    "time = np.array(years[:len(columns)])\n",
    "\n",
    "def compute_slope(row):\n",
    "    y_values = row[columns].values.astype(float)  # Retrieve the time series data for the pixel\n",
    "    if np.all(np.isnan(y_values)):  # If all values are NaN, return NaN\n",
    "        return np.nan\n",
    "    slope, _, _, _, _ = linregress(time, y_values)\n",
    "    return slope\n",
    "\n",
    "# Compute the slope and store it in a new column\n",
    "gdf[\"BA_slope\"] = gdf.apply(compute_slope, axis=1)\n",
    "\n",
    "# Save the results\n",
    "gdf.to_file(\"/your_path_here/grid5_Sta_slope.shp\")\n",
    "\n",
    "print(\"Linear regression calculation completed, results saved.\")\n"
   ]
  }
 ],
 "metadata": {
  "kernelspec": {
   "display_name": "base",
   "language": "python",
   "name": "python3"
  },
  "language_info": {
   "codemirror_mode": {
    "name": "ipython",
    "version": 3
   },
   "file_extension": ".py",
   "mimetype": "text/x-python",
   "name": "python",
   "nbconvert_exporter": "python",
   "pygments_lexer": "ipython3",
   "version": "3.12.2"
  }
 },
 "nbformat": 4,
 "nbformat_minor": 2
}
